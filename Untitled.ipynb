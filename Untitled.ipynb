{
 "cells": [
  {
   "cell_type": "code",
   "execution_count": 1,
   "metadata": {},
   "outputs": [
    {
     "name": "stdout",
     "output_type": "stream",
     "text": [
      "{'EBusinessID': '1627088',\n",
      " 'LogisticCode': '12345678',\n",
      " 'Reason': '暂无轨迹信息',\n",
      " 'ShipperCode': 'SF',\n",
      " 'State': '0',\n",
      " 'Success': True,\n",
      " 'Traces': []}\n"
     ]
    }
   ],
   "source": [
    "import json\n",
    "from pprint import pprint\n",
    "import requests\n",
    "import hashlib\n",
    "from base64 import b64encode\n",
    "\n",
    "\n",
    "class KdNiaoAPI:\n",
    "    \"\"\"快递鸟查询接口\"\"\"\n",
    "    def __init__(self):\n",
    "    # ID和Key请到官网申请：http://www.kdniao.com/ServiceApply.aspx\n",
    "        self.EBusinessID = '1627088'\n",
    "        self.AppKey = '5b937df3-1b06-407b-ab1b-e200c6b5b36f'\n",
    "        self.ReqURL = 'http://api.kdniao.com/Ebusiness/EbusinessOrderHandle.aspx'\n",
    "\n",
    "    def query(self, shipper_code, logistic_code):\n",
    "        request_data = {'OrderCode': '',\n",
    "                        'ShipperCode': shipper_code,\n",
    "                        'LogisticCode': logistic_code}\n",
    "        request_data = json.dumps(request_data)\n",
    "        sign = self.sign(request_data)\n",
    "        params = {\n",
    "            \"RequestData\": request_data,\n",
    "            \"EBusinessID\": self.EBusinessID,\n",
    "            \"RequestType\": \"1002\",\n",
    "            \"DataSign\": sign,\n",
    "            \"DataType\": \"2\"\n",
    "        }\n",
    "        result = self.send_post(**params)\n",
    "        return result\n",
    "\n",
    "    def sign(self, string):\n",
    "        string += self.AppKey\n",
    "        m = hashlib.md5()\n",
    "        m.update(string.encode('utf-8'))\n",
    "        sign_data = m.digest().hex()\n",
    "        sign_data = b64encode(sign_data.encode('utf-8')).decode('utf-8')\n",
    "        return sign_data\n",
    "\n",
    "    def send_post(self, **params):\n",
    "        req = requests.request('post', self.ReqURL, data=params)\n",
    "        resp = req.content.decode('utf-8')\n",
    "        return resp\n",
    "\n",
    "\n",
    "k = KdNiaoAPI()\n",
    "# 需要获取快递公司的编号\n",
    "res = k.query('SF', '12345678')\n",
    "j = json.loads(res)\n",
    "pprint(j)\n"
   ]
  },
  {
   "cell_type": "code",
   "execution_count": null,
   "metadata": {},
   "outputs": [],
   "source": []
  }
 ],
 "metadata": {
  "kernelspec": {
   "display_name": "Python 3",
   "language": "python",
   "name": "python3"
  },
  "language_info": {
   "codemirror_mode": {
    "name": "ipython",
    "version": 3
   },
   "file_extension": ".py",
   "mimetype": "text/x-python",
   "name": "python",
   "nbconvert_exporter": "python",
   "pygments_lexer": "ipython3",
   "version": "3.7.0"
  }
 },
 "nbformat": 4,
 "nbformat_minor": 2
}
